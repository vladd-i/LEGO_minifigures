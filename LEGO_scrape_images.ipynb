{
  "nbformat": 4,
  "nbformat_minor": 0,
  "metadata": {
    "colab": {
      "name": "scrape_images.ipynb",
      "provenance": [],
      "collapsed_sections": []
    },
    "kernelspec": {
      "display_name": "Python 3",
      "name": "python3"
    },
    "language_info": {
      "name": "python"
    }
  },
  "cells": [
    {
      "cell_type": "markdown",
      "metadata": {
        "id": "WIabdzN4D-5X"
      },
      "source": [
        "# Setup"
      ]
    },
    {
      "cell_type": "code",
      "metadata": {
        "colab": {
          "base_uri": "https://localhost:8080/"
        },
        "id": "Csyt-tmtF5nM",
        "outputId": "68c3c183-e4b7-4dab-fcc0-181c9c971e30"
      },
      "source": [
        "import os\n",
        "from google.colab import drive\n",
        "drive.mount('/content/drive')"
      ],
      "execution_count": null,
      "outputs": [
        {
          "output_type": "stream",
          "name": "stdout",
          "text": [
            "Mounted at /content/drive\n"
          ]
        }
      ]
    },
    {
      "cell_type": "code",
      "metadata": {
        "colab": {
          "base_uri": "https://localhost:8080/"
        },
        "id": "D_c09mwKKIgZ",
        "outputId": "3741e775-de0c-4b9b-cf85-7713e3a8d0c0"
      },
      "source": [
        "%cd /content/drive/MyDrive/ANN_LEGO_Project/"
      ],
      "execution_count": null,
      "outputs": [
        {
          "output_type": "stream",
          "name": "stdout",
          "text": [
            "/content/drive/MyDrive/ANN_LEGO_Project\n"
          ]
        }
      ]
    },
    {
      "cell_type": "code",
      "metadata": {
        "colab": {
          "base_uri": "https://localhost:8080/"
        },
        "id": "VO0VR862EWh-",
        "outputId": "733e33a6-dab2-4076-b59b-e3fca517cd70"
      },
      "source": [
        "!pip install selenium\n",
        "!apt-get update # to update ubuntu to correctly run apt install\n",
        "!apt install chromium-chromedriver\n",
        "!cp /usr/lib/chromium-browser/chromedriver /usr/bin"
      ],
      "execution_count": null,
      "outputs": [
        {
          "output_type": "stream",
          "name": "stdout",
          "text": [
            "Requirement already satisfied: selenium in /usr/local/lib/python3.7/dist-packages (4.1.3)\n",
            "Requirement already satisfied: trio~=0.17 in /usr/local/lib/python3.7/dist-packages (from selenium) (0.20.0)\n",
            "Requirement already satisfied: urllib3[secure,socks]~=1.26 in /usr/local/lib/python3.7/dist-packages (from selenium) (1.26.9)\n",
            "Requirement already satisfied: trio-websocket~=0.9 in /usr/local/lib/python3.7/dist-packages (from selenium) (0.9.2)\n",
            "Requirement already satisfied: sniffio in /usr/local/lib/python3.7/dist-packages (from trio~=0.17->selenium) (1.2.0)\n",
            "Requirement already satisfied: async-generator>=1.9 in /usr/local/lib/python3.7/dist-packages (from trio~=0.17->selenium) (1.10)\n",
            "Requirement already satisfied: attrs>=19.2.0 in /usr/local/lib/python3.7/dist-packages (from trio~=0.17->selenium) (21.4.0)\n",
            "Requirement already satisfied: idna in /usr/local/lib/python3.7/dist-packages (from trio~=0.17->selenium) (2.10)\n",
            "Requirement already satisfied: sortedcontainers in /usr/local/lib/python3.7/dist-packages (from trio~=0.17->selenium) (2.4.0)\n",
            "Requirement already satisfied: outcome in /usr/local/lib/python3.7/dist-packages (from trio~=0.17->selenium) (1.1.0)\n",
            "Requirement already satisfied: wsproto>=0.14 in /usr/local/lib/python3.7/dist-packages (from trio-websocket~=0.9->selenium) (1.1.0)\n",
            "Requirement already satisfied: PySocks!=1.5.7,<2.0,>=1.5.6 in /usr/local/lib/python3.7/dist-packages (from urllib3[secure,socks]~=1.26->selenium) (1.7.1)\n",
            "Requirement already satisfied: cryptography>=1.3.4 in /usr/local/lib/python3.7/dist-packages (from urllib3[secure,socks]~=1.26->selenium) (37.0.1)\n",
            "Requirement already satisfied: certifi in /usr/local/lib/python3.7/dist-packages (from urllib3[secure,socks]~=1.26->selenium) (2021.10.8)\n",
            "Requirement already satisfied: pyOpenSSL>=0.14 in /usr/local/lib/python3.7/dist-packages (from urllib3[secure,socks]~=1.26->selenium) (22.0.0)\n",
            "Requirement already satisfied: cffi>=1.12 in /usr/local/lib/python3.7/dist-packages (from cryptography>=1.3.4->urllib3[secure,socks]~=1.26->selenium) (1.15.0)\n",
            "Requirement already satisfied: pycparser in /usr/local/lib/python3.7/dist-packages (from cffi>=1.12->cryptography>=1.3.4->urllib3[secure,socks]~=1.26->selenium) (2.21)\n",
            "Requirement already satisfied: h11<1,>=0.9.0 in /usr/local/lib/python3.7/dist-packages (from wsproto>=0.14->trio-websocket~=0.9->selenium) (0.13.0)\n",
            "Requirement already satisfied: typing-extensions in /usr/local/lib/python3.7/dist-packages (from h11<1,>=0.9.0->wsproto>=0.14->trio-websocket~=0.9->selenium) (4.2.0)\n",
            "Get:1 https://developer.download.nvidia.com/compute/cuda/repos/ubuntu1804/x86_64  InRelease [1,575 B]\n",
            "Ign:2 https://developer.download.nvidia.com/compute/machine-learning/repos/ubuntu1804/x86_64  InRelease\n",
            "Hit:3 https://developer.download.nvidia.com/compute/machine-learning/repos/ubuntu1804/x86_64  Release\n",
            "Get:4 http://security.ubuntu.com/ubuntu bionic-security InRelease [88.7 kB]\n",
            "Hit:5 http://archive.ubuntu.com/ubuntu bionic InRelease\n",
            "Hit:6 http://ppa.launchpad.net/c2d4u.team/c2d4u4.0+/ubuntu bionic InRelease\n",
            "Hit:7 https://cloud.r-project.org/bin/linux/ubuntu bionic-cran40/ InRelease\n",
            "Get:8 http://archive.ubuntu.com/ubuntu bionic-updates InRelease [88.7 kB]\n",
            "Err:1 https://developer.download.nvidia.com/compute/cuda/repos/ubuntu1804/x86_64  InRelease\n",
            "  The following signatures couldn't be verified because the public key is not available: NO_PUBKEY A4B469963BF863CC\n",
            "Hit:9 http://ppa.launchpad.net/cran/libgit2/ubuntu bionic InRelease\n",
            "Hit:11 http://ppa.launchpad.net/deadsnakes/ppa/ubuntu bionic InRelease\n",
            "Get:12 http://archive.ubuntu.com/ubuntu bionic-backports InRelease [74.6 kB]\n",
            "Hit:13 http://ppa.launchpad.net/graphics-drivers/ppa/ubuntu bionic InRelease\n",
            "Reading package lists... Done\n",
            "W: GPG error: https://developer.download.nvidia.com/compute/cuda/repos/ubuntu1804/x86_64  InRelease: The following signatures couldn't be verified because the public key is not available: NO_PUBKEY A4B469963BF863CC\n",
            "E: The repository 'https://developer.download.nvidia.com/compute/cuda/repos/ubuntu1804/x86_64  InRelease' is no longer signed.\n",
            "N: Updating from such a repository can't be done securely, and is therefore disabled by default.\n",
            "N: See apt-secure(8) manpage for repository creation and user configuration details.\n",
            "Reading package lists... Done\n",
            "Building dependency tree       \n",
            "Reading state information... Done\n",
            "chromium-chromedriver is already the newest version (100.0.4896.127-0ubuntu0.18.04.1).\n",
            "0 upgraded, 0 newly installed, 0 to remove and 48 not upgraded.\n",
            "cp: '/usr/lib/chromium-browser/chromedriver' and '/usr/bin/chromedriver' are the same file\n"
          ]
        }
      ]
    },
    {
      "cell_type": "code",
      "metadata": {
        "id": "zMRchNQkD7SC"
      },
      "source": [
        "import sys\n",
        "sys.path.insert(0,'/usr/lib/chromium-browser/chromedriver')\n",
        "import os\n",
        "import requests\n",
        "import time\n",
        "import shutil\n",
        "from selenium import webdriver\n",
        "from binascii import a2b_base64\n",
        "import warnings\n",
        "warnings.filterwarnings(\"ignore\", category=DeprecationWarning) \n",
        "\n",
        "import pandas as pd\n",
        "import numpy as np\n",
        "\n",
        "import threading\n",
        "from queue import Queue\n",
        "\n",
        "thread_count = 50\n",
        "threads = []\n",
        "\n",
        "# Initial queue\n",
        "queue = Queue(0)\n",
        "\n",
        "from base64 import b64decode"
      ],
      "execution_count": null,
      "outputs": []
    },
    {
      "cell_type": "markdown",
      "source": [
        "# Code for Downloading from Google"
      ],
      "metadata": {
        "id": "pYq5vckw_ybj"
      }
    },
    {
      "cell_type": "code",
      "source": [
        "def download_google_images(search_terms):\n",
        "    print(\"Downloading images from Google...\")\n",
        "    start_time = time.time()\n",
        "\n",
        "    # Setup download folder\n",
        "    downloads = \"dataset\"\n",
        "    if not os.path.exists(downloads):\n",
        "        shutil.mkdir(downloads)\n",
        "\n",
        "    # Chrome Options\n",
        "    options = webdriver.ChromeOptions()\n",
        "    options.headless = True\n",
        "    options.add_argument('--no-sandbox')\n",
        "    options.add_argument('--disable-dev-shm-usage')\n",
        "    options.add_argument('--ignore-certificate-errors')\n",
        "    options.add_argument('--ignore-ssl-errors')\n",
        "\n",
        "    # Create a browser instance\n",
        "    browser = webdriver.Chrome(\"chromedriver\", chrome_options=options)\n",
        "\n",
        "    for search_term in search_terms:\n",
        "        print(\"Searching for: \", search_term)\n",
        "        search_url = 'https://www.google.com/search?q=' + search_term.replace(\" \", \"+\") + '&tbm=isch'\n",
        "        print(\"Search URL: \", search_url)\n",
        "        browser.get(search_url)\n",
        "\n",
        "        # Image urls\n",
        "        img_urls = set()\n",
        "\n",
        "        for _ in range(20):\n",
        "            img_elements = browser.find_elements_by_xpath('//img[@class=\"rg_i Q4LuWd\"]')\n",
        "            if not img_elements:\n",
        "                img_elements = browser.find_elements_by_xpath('//div[@class=\"bRMDJf islir\"]/img')\n",
        "\n",
        "            for img_element in img_elements:\n",
        "                # on the element we get the src\n",
        "                img_url = img_element.get_attribute('src')\n",
        "\n",
        "                if img_url:\n",
        "                    img_urls.add(img_url)\n",
        "\n",
        "            # Wait up to 1 second\n",
        "            time.sleep(np.random.uniform(0.2,1))\n",
        "\n",
        "            browser.execute_script(\"window.scrollBy(0, 100000)\")\n",
        "\n",
        "        print('Number of image urls found:', len(img_urls))\n",
        "\n",
        "\n",
        "        img_dir = os.path.join(downloads, search_term.lower().replace(\" \", \"_\"))\n",
        "        if not os.path.exists(img_dir):\n",
        "            os.makedirs(img_dir)\n",
        "\n",
        "        count = 0\n",
        "\n",
        "        for img_url in img_urls:\n",
        "          img_path = os.path.join(img_dir, '{0}.jpg'.format(count))\n",
        "          count += 1\n",
        "\n",
        "          with open(img_path, 'wb') as f:\n",
        "            if 'data:image' in img_url:\n",
        "                # Get only revelant data, deleting \"data:image/png;base64,\"\n",
        "                data = img_url.split(',', 1)[1]\n",
        "                f.write(b64decode(data))\n",
        "            else:\n",
        "                page = requests.get(img_url)\n",
        "                f.write(page.content)\n",
        "\n",
        "    # Quit the browser\n",
        "    browser.quit()\n",
        "\n",
        "    execution_time = (time.time() - start_time) / 60.0\n",
        "    print(\"Download execution time (mins)\", execution_time)"
      ],
      "metadata": {
        "id": "CYjZTUX3mvpd"
      },
      "execution_count": null,
      "outputs": []
    },
    {
      "cell_type": "markdown",
      "source": [
        "# Function to Download from bricklink"
      ],
      "metadata": {
        "id": "n7wIEEf5xfs6"
      }
    },
    {
      "cell_type": "code",
      "source": [
        "def download_bricklink_images(search_category_ids):\n",
        "    print(\"Downloading images from bricklink...\")\n",
        "    start_time = time.time()\n",
        "\n",
        "    # Setup download folder\n",
        "    downloads = \"minifigures\"\n",
        "    if not os.path.exists(downloads):\n",
        "        os.mkdir(downloads)\n",
        "\n",
        "    # Chrome Options\n",
        "    options = webdriver.ChromeOptions()\n",
        "    options.headless = True\n",
        "    options.add_argument('--no-sandbox')\n",
        "    options.add_argument('--disable-dev-shm-usage')\n",
        "    options.add_argument('--ignore-certificate-errors')\n",
        "    options.add_argument('--ignore-ssl-errors')\n",
        "\n",
        "    # Create a browser instance\n",
        "    browser = webdriver.Chrome(\"chromedriver\", chrome_options=options)\n",
        "\n",
        "    count = 0\n",
        "\n",
        "    for search_category_id in search_category_ids:\n",
        "        print(\"Searching for images from category ID: \", search_category_id)\n",
        "\n",
        "        # Image urls\n",
        "        img_urls = set()\n",
        "\n",
        "        page_number = 1\n",
        "        while True:\n",
        "            # if any of the found img_url is already in img_urls, break the loop of expanding img_urls and proceed to saving\n",
        "            search_url = 'https://www.bricklink.com/catalogList.asp?pg=' + str(page_number) + '&catString=' + search_category_id + '&catType=M'\n",
        "            # print(\"Search URL: \", search_url) \n",
        "            browser.get(search_url)\n",
        "\n",
        "            candidate_img_urls = set([element.get_attribute('src') for element in browser.find_elements_by_xpath('//img[@class=\"l-block l-relative\"]')])\n",
        "\n",
        "            if not candidate_img_urls.isdisjoint(img_urls):\n",
        "                break\n",
        "            \n",
        "            img_urls.update(candidate_img_urls)\n",
        "            page_number += 1\n",
        "        \n",
        "        print('Number of image urls found:', len(img_urls))\n",
        "\n",
        "        for img_url in img_urls:\n",
        "            img_path = os.path.join(downloads, '{0}.jpg'.format(count))\n",
        "            count += 1\n",
        "\n",
        "            with open(img_path, 'wb') as f:\n",
        "                if 'data:image' in img_url:\n",
        "                    # Get only revelant data, deleting \"data:image/png;base64,\"\n",
        "                    data = img_url.split(',', 1)[1]\n",
        "                    f.write(b64decode(data))\n",
        "                else:\n",
        "                    page = requests.get(img_url)\n",
        "                    f.write(page.content)\n",
        "\n",
        "    print('Total images downloaded:', count)\n",
        "\n",
        "    # Quit the browser\n",
        "    browser.quit()\n",
        "\n",
        "    execution_time = (time.time() - start_time) / 60.0\n",
        "    print(\"Download execution time (mins)\", execution_time)"
      ],
      "metadata": {
        "id": "ZGlQoluO5hNt"
      },
      "execution_count": null,
      "outputs": []
    },
    {
      "cell_type": "code",
      "source": [
        "all_search_category_ids = ['747', '69', '1125', '124', '67', '804', '971', '920',\n",
        "                           '789', '790', '746', '227', '390', '759', '61', '34', \n",
        "                           '573', '473', '65', '174', '768']\n",
        "\n",
        "\n",
        "download_bricklink_images(all_search_category_ids)"
      ],
      "metadata": {
        "colab": {
          "base_uri": "https://localhost:8080/"
        },
        "id": "NR2M_wD_A2P7",
        "outputId": "746d858e-61f6-401b-a36d-aa9459a7519e"
      },
      "execution_count": null,
      "outputs": [
        {
          "output_type": "stream",
          "name": "stdout",
          "text": [
            "Downloading images from bricklink...\n",
            "Searching for images from category ID:  747\n",
            "Number of image urls found: 26\n",
            "Searching for images from category ID:  69\n",
            "Number of image urls found: 29\n",
            "Searching for images from category ID:  1125\n",
            "Number of image urls found: 47\n",
            "Searching for images from category ID:  124\n",
            "Number of image urls found: 87\n",
            "Searching for images from category ID:  67\n",
            "Number of image urls found: 3082\n",
            "Searching for images from category ID:  804\n",
            "Number of image urls found: 83\n",
            "Searching for images from category ID:  971\n",
            "Number of image urls found: 86\n",
            "Searching for images from category ID:  920\n",
            "Number of image urls found: 93\n",
            "Searching for images from category ID:  789\n",
            "Number of image urls found: 110\n",
            "Searching for images from category ID:  790\n",
            "Number of image urls found: 54\n",
            "Searching for images from category ID:  746\n",
            "Number of image urls found: 684\n",
            "Searching for images from category ID:  227\n",
            "Number of image urls found: 368\n",
            "Searching for images from category ID:  390\n",
            "Number of image urls found: 279\n",
            "Searching for images from category ID:  759\n",
            "Number of image urls found: 670\n",
            "Searching for images from category ID:  61\n",
            "Number of image urls found: 201\n",
            "Searching for images from category ID:  34\n",
            "Number of image urls found: 208\n",
            "Searching for images from category ID:  573\n",
            "Number of image urls found: 39\n",
            "Searching for images from category ID:  473\n",
            "Number of image urls found: 303\n",
            "Searching for images from category ID:  65\n",
            "Number of image urls found: 1262\n",
            "Searching for images from category ID:  174\n",
            "Number of image urls found: 36\n",
            "Searching for images from category ID:  768\n",
            "Number of image urls found: 836\n",
            "Total images downloaded: 8583\n",
            "Download execution time (mins) 35.67604920466741\n"
          ]
        }
      ]
    },
    {
      "cell_type": "markdown",
      "source": [
        "# Preprocess Images"
      ],
      "metadata": {
        "id": "Ovsyiu28Hd5u"
      }
    },
    {
      "cell_type": "code",
      "source": [
        "from PIL import Image     \n",
        "import matplotlib.pyplot as plt                                         \n",
        "import os, sys    \n",
        "                   \n",
        "\n",
        "path = \"minifigures/\"\n",
        "dirs = os.listdir(path)                                       \n",
        "\n",
        "def add_margin_resize(newsize=(80, 80)):\n",
        "    count = 0\n",
        "    for img_file in dirs:\n",
        "        img = Image.open(os.path.join(path, img_file))\n",
        "\n",
        "        width, height = img.size\n",
        "\n",
        "        if height > width:\n",
        "            right = left = int((height-width)/2)\n",
        "            top = bottom = 0 \n",
        "\n",
        "        else:\n",
        "            top = bottom = int((width-height)/2)\n",
        "            left = right = 0\n",
        "\n",
        "        new_width = width + right + left\n",
        "        new_height = height + top + bottom\n",
        "\n",
        "        img_square = Image.new(img.mode, (new_width, new_height), (255, 255, 255))\n",
        "        img_square.paste(img, (left, top))\n",
        "\n",
        "        img_square_resized = img_square.resize(newsize)\n",
        "\n",
        "        img_square_resized.save(path + img_file.strip('.jpg') + '_preprocessed.jpg', quality=100)\n",
        "\n",
        "        if count % 100 == 0:\n",
        "            print('minifigures_preprocessed/' + img_file)\n",
        "        \n",
        "        count += 1\n",
        "\n",
        "add_margin_resize()\n"
      ],
      "metadata": {
        "colab": {
          "base_uri": "https://localhost:8080/"
        },
        "id": "uKVTqKVeHz8s",
        "outputId": "b2aeda68-9bb2-4bce-e290-35a94580f480"
      },
      "execution_count": null,
      "outputs": [
        {
          "output_type": "stream",
          "name": "stdout",
          "text": [
            "minifigures/7583_preprocessed.jpg\n",
            "minifigures/7584_preprocessed.jpg\n",
            "minifigures/7585_preprocessed.jpg\n",
            "minifigures/7586_preprocessed.jpg\n",
            "minifigures/7587_preprocessed.jpg\n",
            "minifigures/7588_preprocessed.jpg\n",
            "minifigures/7589_preprocessed.jpg\n",
            "minifigures/7590_preprocessed.jpg\n",
            "minifigures/7591_preprocessed.jpg\n",
            "minifigures/7592_preprocessed.jpg\n",
            "minifigures/7593_preprocessed.jpg\n",
            "minifigures/7594_preprocessed.jpg\n",
            "minifigures/7595_preprocessed.jpg\n",
            "minifigures/7596_preprocessed.jpg\n",
            "minifigures/7597_preprocessed.jpg\n",
            "minifigures/7598_preprocessed.jpg\n",
            "minifigures/7599_preprocessed.jpg\n",
            "minifigures/7600_preprocessed.jpg\n",
            "minifigures/7601_preprocessed.jpg\n",
            "minifigures/7602_preprocessed.jpg\n"
          ]
        }
      ]
    },
    {
      "cell_type": "code",
      "source": [
        "path = 'minifigures'\n",
        "img_file = '7595_preprocessed.jpg'\n",
        "img = Image.open(os.path.join(path, img_file))\n",
        "width, height = img.size"
      ],
      "metadata": {
        "colab": {
          "base_uri": "https://localhost:8080/",
          "height": 97
        },
        "id": "6HdWk8dUIZyE",
        "outputId": "196ee83f-d9f3-4ce1-b589-169abe67ee1a"
      },
      "execution_count": null,
      "outputs": [
        {
          "output_type": "execute_result",
          "data": {
            "text/plain": [
              "<PIL.PngImagePlugin.PngImageFile image mode=RGB size=60x80 at 0x7FE028391F10>"
            ],
            "image/png": "[encoded data removed]"
          },
          "metadata": {},
          "execution_count": 26
        }
      ]
    },
    {
      "cell_type": "code",
      "source": [
        ""
      ],
      "metadata": {
        "id": "BbZ3u81xKr9e"
      },
      "execution_count": null,
      "outputs": []
    }
  ]
}